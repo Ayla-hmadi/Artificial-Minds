{
  "nbformat": 4,
  "nbformat_minor": 0,
  "metadata": {
    "colab": {
      "provenance": []
    },
    "kernelspec": {
      "name": "python3",
      "display_name": "Python 3"
    },
    "language_info": {
      "name": "python"
    }
  },
  "cells": [
    {
      "cell_type": "markdown",
      "metadata": {
        "id": "L1fpbhL5oyEl"
      },
      "source": [
        "# Step 1: Importing Libraries"
      ]
    },
    {
      "cell_type": "code",
      "source": [
        "import pandas as pd\n",
        "import numpy as np\n",
        "import sklearn\n",
        "import tensorflow\n",
        "from sklearn.preprocessing import StandardScaler\n",
        "from sklearn.model_selection import train_test_split, GridSearchCV, KFold, cross_val_score\n",
        "from tensorflow.keras.models import Sequential, Model\n",
        "from tensorflow.keras.layers import Dense, LeakyReLU, Dense, Dropout, BatchNormalization, Input\n",
        "from tensorflow.keras.optimizers import Adam, Nadam\n",
        "from keras.wrappers.scikit_learn import KerasClassifier\n",
        "from tensorflow.keras.callbacks import EarlyStopping, ReduceLROnPlateau\n",
        "from tensorflow.keras.regularizers import l2\n",
        "\n",
        "\n",
        "#for data preprocessing\n",
        "from google.colab import drive\n",
        "\n",
        "#for loading the model\n",
        "from tensorflow.keras.models import load_model\n",
        "\n"
      ],
      "metadata": {
        "id": "KOw-zfaSV0kl"
      },
      "execution_count": 1,
      "outputs": []
    },
    {
      "cell_type": "markdown",
      "source": [
        "# Step 2: Data preperation"
      ],
      "metadata": {
        "id": "KGi_LHhWVzfs"
      }
    },
    {
      "cell_type": "markdown",
      "source": [
        "\n",
        "\n",
        "1.   Connecting google drive\n",
        "\n",
        "\n"
      ],
      "metadata": {
        "id": "ogexh1MdWCA5"
      }
    },
    {
      "cell_type": "code",
      "execution_count": 2,
      "metadata": {
        "colab": {
          "base_uri": "https://localhost:8080/",
          "height": 0
        },
        "id": "cZy6VN36lmXx",
        "outputId": "d51d2399-8bb7-4bae-9725-77b1da5053e7"
      },
      "outputs": [
        {
          "output_type": "stream",
          "name": "stdout",
          "text": [
            "Mounted at /content/drive\n"
          ]
        }
      ],
      "source": [
        "\n",
        "drive.mount('/content/drive')\n"
      ]
    },
    {
      "cell_type": "markdown",
      "source": [
        "2. Load the data into a pandas dataframe"
      ],
      "metadata": {
        "id": "GeBmMl_sWIEj"
      }
    },
    {
      "cell_type": "code",
      "source": [
        "path = '/content/drive/MyDrive/Artifical Minds - CMPS261/HIGGS_train.csv'\n",
        "data = pd.read_csv(path)\n",
        "\n",
        "data.info()"
      ],
      "metadata": {
        "colab": {
          "base_uri": "https://localhost:8080/",
          "height": 0
        },
        "id": "UCH2vQwdWQmw",
        "outputId": "fac0bd91-0df0-47e2-fe00-7fbcc5a4da64"
      },
      "execution_count": 3,
      "outputs": [
        {
          "output_type": "stream",
          "name": "stderr",
          "text": [
            "<ipython-input-3-7fae3bc4baac>:2: DtypeWarning: Columns (8,21) have mixed types. Specify dtype option on import or set low_memory=False.\n",
            "  data = pd.read_csv(path)\n"
          ]
        },
        {
          "output_type": "stream",
          "name": "stdout",
          "text": [
            "<class 'pandas.core.frame.DataFrame'>\n",
            "RangeIndex: 599999 entries, 0 to 599998\n",
            "Data columns (total 29 columns):\n",
            " #   Column      Non-Null Count   Dtype  \n",
            "---  ------      --------------   -----  \n",
            " 0   1.00E+00    599999 non-null  float64\n",
            " 1   8.69E-01    599999 non-null  float64\n",
            " 2   -6.35E-01   599999 non-null  float64\n",
            " 3   2.26E-01    599999 non-null  float64\n",
            " 4   3.27E-01    599999 non-null  float64\n",
            " 5   -6.90E-01   599999 non-null  float64\n",
            " 6   7.54E-01    599999 non-null  float64\n",
            " 7   -2.49E-01   599999 non-null  float64\n",
            " 8   -1.09E+00   599999 non-null  object \n",
            " 9   0.00E+00    599999 non-null  float64\n",
            " 10  1.37E+00    599999 non-null  float64\n",
            " 11  -6.54E-01   599999 non-null  float64\n",
            " 12  9.30E-01    599999 non-null  float64\n",
            " 13  1.11E+00    599999 non-null  float64\n",
            " 14  1.14E+00    599999 non-null  float64\n",
            " 15  -1.58E+00   599999 non-null  float64\n",
            " 16  -1.05E+00   599999 non-null  float64\n",
            " 17  0.00E+00.1  599998 non-null  float64\n",
            " 18  6.58E-01    599999 non-null  float64\n",
            " 19  -1.05E-02   599999 non-null  float64\n",
            " 20  -4.58E-02   599999 non-null  float64\n",
            " 21  3.10E+00    599999 non-null  object \n",
            " 22  1.35E+00    599999 non-null  float64\n",
            " 23  9.80E-01    599999 non-null  float64\n",
            " 24  9.78E-01    599999 non-null  float64\n",
            " 25  9.20E-01    599999 non-null  float64\n",
            " 26  7.22E-01    599999 non-null  float64\n",
            " 27  9.89E-01    599999 non-null  float64\n",
            " 28  8.77E-01    599999 non-null  float64\n",
            "dtypes: float64(27), object(2)\n",
            "memory usage: 132.8+ MB\n"
          ]
        }
      ]
    },
    {
      "cell_type": "markdown",
      "source": [
        "3. Naming the columns"
      ],
      "metadata": {
        "id": "-j8dXppVWS5E"
      }
    },
    {
      "cell_type": "code",
      "execution_count": 4,
      "metadata": {
        "id": "F0bR1yvBnfSJ"
      },
      "outputs": [],
      "source": [
        "column_names = ['class_label', 'lepton_pt', 'lepton_eta', 'lepton_phi', 'missing_energy_magnitude', 'missing_energy_phi',\n",
        "                'jet_1_pt', 'jet_1_eta', 'jet_1_phi', 'jet_1_b-tag', 'jet_2_pt', 'jet_2_eta', 'jet_2_phi', 'jet_2_b-tag',\n",
        "                'jet_3_pt', 'jet_3_eta', 'jet_3_phi', 'jet_3_b-tag', 'jet_4_pt', 'jet_4_eta', 'jet_4_phi', 'jet_4_b-tag',\n",
        "                'm_jj', 'm_jjj', 'm_lv', 'm_jlv', 'm_bb', 'm_wbb', 'm_wwbb']\n",
        "data.columns = column_names"
      ]
    },
    {
      "cell_type": "markdown",
      "source": [
        "4. Checking for null values"
      ],
      "metadata": {
        "id": "9Ut39Mw8WZag"
      }
    },
    {
      "cell_type": "code",
      "execution_count": 5,
      "metadata": {
        "colab": {
          "base_uri": "https://localhost:8080/",
          "height": 0
        },
        "id": "cmbI_MWMpK0i",
        "outputId": "56deca82-fc34-4a0c-e65b-af16b948c9b6"
      },
      "outputs": [
        {
          "output_type": "stream",
          "name": "stdout",
          "text": [
            "class_label                 0\n",
            "lepton_pt                   0\n",
            "lepton_eta                  0\n",
            "lepton_phi                  0\n",
            "missing_energy_magnitude    0\n",
            "missing_energy_phi          0\n",
            "jet_1_pt                    0\n",
            "jet_1_eta                   0\n",
            "jet_1_phi                   0\n",
            "jet_1_b-tag                 0\n",
            "jet_2_pt                    0\n",
            "jet_2_eta                   0\n",
            "jet_2_phi                   0\n",
            "jet_2_b-tag                 0\n",
            "jet_3_pt                    0\n",
            "jet_3_eta                   0\n",
            "jet_3_phi                   0\n",
            "jet_3_b-tag                 1\n",
            "jet_4_pt                    0\n",
            "jet_4_eta                   0\n",
            "jet_4_phi                   0\n",
            "jet_4_b-tag                 0\n",
            "m_jj                        0\n",
            "m_jjj                       0\n",
            "m_lv                        0\n",
            "m_jlv                       0\n",
            "m_bb                        0\n",
            "m_wbb                       0\n",
            "m_wwbb                      0\n",
            "dtype: int64\n",
            "<class 'pandas.core.frame.DataFrame'>\n",
            "Int64Index: 599193 entries, 0 to 599998\n",
            "Data columns (total 29 columns):\n",
            " #   Column                    Non-Null Count   Dtype  \n",
            "---  ------                    --------------   -----  \n",
            " 0   class_label               599193 non-null  int64  \n",
            " 1   lepton_pt                 599193 non-null  float64\n",
            " 2   lepton_eta                599193 non-null  float64\n",
            " 3   lepton_phi                599193 non-null  float64\n",
            " 4   missing_energy_magnitude  599193 non-null  float64\n",
            " 5   missing_energy_phi        599193 non-null  float64\n",
            " 6   jet_1_pt                  599193 non-null  float64\n",
            " 7   jet_1_eta                 599193 non-null  float64\n",
            " 8   jet_1_phi                 599193 non-null  float64\n",
            " 9   jet_1_b-tag               599193 non-null  float64\n",
            " 10  jet_2_pt                  599193 non-null  float64\n",
            " 11  jet_2_eta                 599193 non-null  float64\n",
            " 12  jet_2_phi                 599193 non-null  float64\n",
            " 13  jet_2_b-tag               599193 non-null  float64\n",
            " 14  jet_3_pt                  599193 non-null  float64\n",
            " 15  jet_3_eta                 599193 non-null  float64\n",
            " 16  jet_3_phi                 599193 non-null  float64\n",
            " 17  jet_3_b-tag               599193 non-null  float64\n",
            " 18  jet_4_pt                  599193 non-null  float64\n",
            " 19  jet_4_eta                 599193 non-null  float64\n",
            " 20  jet_4_phi                 599193 non-null  float64\n",
            " 21  jet_4_b-tag               599193 non-null  float64\n",
            " 22  m_jj                      599193 non-null  float64\n",
            " 23  m_jjj                     599193 non-null  float64\n",
            " 24  m_lv                      599193 non-null  float64\n",
            " 25  m_jlv                     599193 non-null  float64\n",
            " 26  m_bb                      599193 non-null  float64\n",
            " 27  m_wbb                     599193 non-null  float64\n",
            " 28  m_wwbb                    599193 non-null  float64\n",
            "dtypes: float64(28), int64(1)\n",
            "memory usage: 137.1 MB\n"
          ]
        }
      ],
      "source": [
        "print(data.isna().sum())\n",
        "data['jet_1_phi'] = pd.to_numeric(data['jet_1_phi'], errors='coerce')\n",
        "data['jet_4_b-tag'] = pd.to_numeric(data['jet_4_b-tag'], errors='coerce')\n",
        "data['class_label'] = data['class_label'].astype(int)\n",
        "\n",
        "data = data.dropna();\n",
        "data.drop_duplicates(inplace=True)\n",
        "data.info()"
      ]
    },
    {
      "cell_type": "markdown",
      "source": [
        "# Step 3: Data Scaling"
      ],
      "metadata": {
        "id": "gLSZ2PQoWf6S"
      }
    },
    {
      "cell_type": "markdown",
      "source": [
        "1.  Split the data into features and labels\n"
      ],
      "metadata": {
        "id": "bMhg8NQ4WtSM"
      }
    },
    {
      "cell_type": "code",
      "execution_count": 6,
      "metadata": {
        "colab": {
          "base_uri": "https://localhost:8080/",
          "height": 0
        },
        "id": "yoNazsMF4B15",
        "outputId": "fbd815c3-c699-435f-fb8e-ea3808f807b2"
      },
      "outputs": [
        {
          "output_type": "stream",
          "name": "stdout",
          "text": [
            "[1 1 0 ... 1 1 0]\n"
          ]
        }
      ],
      "source": [
        "X = data.iloc[:, 1:]\n",
        "y = data.iloc[:, 0]\n",
        "print(y.values)"
      ]
    },
    {
      "cell_type": "markdown",
      "source": [
        "2. Feature scaling"
      ],
      "metadata": {
        "id": "P4HLh0mBWv2w"
      }
    },
    {
      "cell_type": "code",
      "source": [
        "scaler = StandardScaler()\n",
        "X = pd.DataFrame(scaler.fit_transform(X), columns=X.columns)"
      ],
      "metadata": {
        "id": "4bPMxHKpXBms"
      },
      "execution_count": 8,
      "outputs": []
    },
    {
      "cell_type": "markdown",
      "source": [
        "#Step 4: Model architecture "
      ],
      "metadata": {
        "id": "bGWfej8pXP_o"
      }
    },
    {
      "cell_type": "code",
      "source": [
        "def create_improved_model(activation='relu', optimizer='adam'):\n",
        "    inputs = Input(shape=(X.shape[1],))\n",
        "    x = Dense(1024, activation=activation)(inputs)\n",
        "    x = BatchNormalization()(x)\n",
        "    x = Dropout(0.5)(x)\n",
        "    x = Dense(512, activation=activation)(x)\n",
        "    x = BatchNormalization()(x)\n",
        "    x = Dropout(0.4)(x)\n",
        "    x = Dense(256, activation=activation)(x)\n",
        "    x = BatchNormalization()(x)\n",
        "    x = Dropout(0.3)(x)\n",
        "    x = Dense(128, activation=activation)(x)\n",
        "    x = BatchNormalization()(x)\n",
        "    x = Dropout(0.2)(x)\n",
        "    output = Dense(1, activation='sigmoid')(x)\n",
        "\n",
        "    model = Model(inputs=inputs, outputs=output)\n",
        "    model.compile(loss='binary_crossentropy', optimizer=optimizer, metrics=['accuracy'])\n",
        "    return model\n",
        "\n",
        "# Create the model\n",
        "improved_model = KerasClassifier(build_fn=create_improved_model, epochs=50, batch_size=256 , verbose=1)\n",
        "\n",
        "# Split the data into training and testing sets\n",
        "X_train, X_test, y_train, y_test = train_test_split(X, y, test_size=0.2, random_state=42)\n",
        "\n",
        "# Add EarlyStopping and ReduceLROnPlateau callbacks\n",
        "early_stopping = EarlyStopping(monitor='val_loss', patience=5, restore_best_weights=True)\n",
        "lr_reduction = ReduceLROnPlateau(monitor='val_loss', patience=2, factor=0.5, min_lr=0.00001)\n",
        "\n",
        "# Train and evaluate the model\n",
        "history = improved_model.fit(X_train, y_train, validation_split=0.33, callbacks=[early_stopping, lr_reduction], verbose=1)\n",
        "test_accuracy = improved_model.score(X_test, y_test)\n",
        "print(\"Test accuracy:\", test_accuracy)\n"
      ],
      "metadata": {
        "colab": {
          "base_uri": "https://localhost:8080/",
          "height": 0
        },
        "id": "OJkJy51zdvGJ",
        "outputId": "be182a2a-d071-4223-afbf-3ea370eec3f8"
      },
      "execution_count": 10,
      "outputs": [
        {
          "output_type": "stream",
          "name": "stderr",
          "text": [
            "<ipython-input-10-d26db877cb6e>:22: DeprecationWarning: KerasClassifier is deprecated, use Sci-Keras (https://github.com/adriangb/scikeras) instead. See https://www.adriangb.com/scikeras/stable/migration.html for help migrating.\n",
            "  improved_model = KerasClassifier(build_fn=create_improved_model, epochs=50, batch_size=256 , verbose=1)\n"
          ]
        },
        {
          "output_type": "stream",
          "name": "stdout",
          "text": [
            "Epoch 1/50\n",
            "1255/1255 [==============================] - 54s 42ms/step - loss: 0.6216 - accuracy: 0.6588 - val_loss: 0.5574 - val_accuracy: 0.7086 - lr: 0.0010\n",
            "Epoch 2/50\n",
            "1255/1255 [==============================] - 52s 42ms/step - loss: 0.5655 - accuracy: 0.7052 - val_loss: 0.5370 - val_accuracy: 0.7252 - lr: 0.0010\n",
            "Epoch 3/50\n",
            "1255/1255 [==============================] - 53s 42ms/step - loss: 0.5515 - accuracy: 0.7154 - val_loss: 0.5304 - val_accuracy: 0.7290 - lr: 0.0010\n",
            "Epoch 4/50\n",
            "1255/1255 [==============================] - 52s 42ms/step - loss: 0.5436 - accuracy: 0.7211 - val_loss: 0.5240 - val_accuracy: 0.7330 - lr: 0.0010\n",
            "Epoch 5/50\n",
            "1255/1255 [==============================] - 52s 42ms/step - loss: 0.5383 - accuracy: 0.7245 - val_loss: 0.5217 - val_accuracy: 0.7352 - lr: 0.0010\n",
            "Epoch 6/50\n",
            "1255/1255 [==============================] - 52s 42ms/step - loss: 0.5333 - accuracy: 0.7284 - val_loss: 0.5162 - val_accuracy: 0.7394 - lr: 0.0010\n",
            "Epoch 7/50\n",
            "1255/1255 [==============================] - 52s 42ms/step - loss: 0.5296 - accuracy: 0.7298 - val_loss: 0.5124 - val_accuracy: 0.7417 - lr: 0.0010\n",
            "Epoch 8/50\n",
            "1255/1255 [==============================] - 52s 41ms/step - loss: 0.5262 - accuracy: 0.7330 - val_loss: 0.5099 - val_accuracy: 0.7433 - lr: 0.0010\n",
            "Epoch 9/50\n",
            "1255/1255 [==============================] - 52s 42ms/step - loss: 0.5236 - accuracy: 0.7347 - val_loss: 0.5072 - val_accuracy: 0.7447 - lr: 0.0010\n",
            "Epoch 10/50\n",
            "1255/1255 [==============================] - 52s 41ms/step - loss: 0.5209 - accuracy: 0.7369 - val_loss: 0.5056 - val_accuracy: 0.7462 - lr: 0.0010\n",
            "Epoch 11/50\n",
            "1255/1255 [==============================] - 52s 41ms/step - loss: 0.5181 - accuracy: 0.7376 - val_loss: 0.5047 - val_accuracy: 0.7471 - lr: 0.0010\n",
            "Epoch 12/50\n",
            "1255/1255 [==============================] - 52s 41ms/step - loss: 0.5163 - accuracy: 0.7396 - val_loss: 0.5021 - val_accuracy: 0.7484 - lr: 0.0010\n",
            "Epoch 13/50\n",
            "1255/1255 [==============================] - 52s 42ms/step - loss: 0.5145 - accuracy: 0.7403 - val_loss: 0.5016 - val_accuracy: 0.7483 - lr: 0.0010\n",
            "Epoch 14/50\n",
            "1255/1255 [==============================] - 52s 42ms/step - loss: 0.5130 - accuracy: 0.7418 - val_loss: 0.4981 - val_accuracy: 0.7494 - lr: 0.0010\n",
            "Epoch 15/50\n",
            "1255/1255 [==============================] - 52s 42ms/step - loss: 0.5104 - accuracy: 0.7438 - val_loss: 0.4972 - val_accuracy: 0.7511 - lr: 0.0010\n",
            "Epoch 16/50\n",
            "1255/1255 [==============================] - 52s 41ms/step - loss: 0.5096 - accuracy: 0.7441 - val_loss: 0.4965 - val_accuracy: 0.7513 - lr: 0.0010\n",
            "Epoch 17/50\n",
            "1255/1255 [==============================] - 52s 41ms/step - loss: 0.5086 - accuracy: 0.7452 - val_loss: 0.4949 - val_accuracy: 0.7525 - lr: 0.0010\n",
            "Epoch 18/50\n",
            "1255/1255 [==============================] - 52s 41ms/step - loss: 0.5071 - accuracy: 0.7452 - val_loss: 0.4959 - val_accuracy: 0.7514 - lr: 0.0010\n",
            "Epoch 19/50\n",
            "1255/1255 [==============================] - 52s 41ms/step - loss: 0.5059 - accuracy: 0.7461 - val_loss: 0.4938 - val_accuracy: 0.7535 - lr: 0.0010\n",
            "Epoch 20/50\n",
            "1255/1255 [==============================] - 52s 41ms/step - loss: 0.5048 - accuracy: 0.7477 - val_loss: 0.4935 - val_accuracy: 0.7529 - lr: 0.0010\n",
            "Epoch 21/50\n",
            "1255/1255 [==============================] - 56s 45ms/step - loss: 0.5036 - accuracy: 0.7479 - val_loss: 0.4938 - val_accuracy: 0.7540 - lr: 0.0010\n",
            "Epoch 22/50\n",
            "1255/1255 [==============================] - 52s 41ms/step - loss: 0.5033 - accuracy: 0.7486 - val_loss: 0.4932 - val_accuracy: 0.7548 - lr: 0.0010\n",
            "Epoch 23/50\n",
            "1255/1255 [==============================] - 52s 41ms/step - loss: 0.5019 - accuracy: 0.7492 - val_loss: 0.4918 - val_accuracy: 0.7552 - lr: 0.0010\n",
            "Epoch 24/50\n",
            "1255/1255 [==============================] - 52s 41ms/step - loss: 0.5008 - accuracy: 0.7498 - val_loss: 0.4915 - val_accuracy: 0.7554 - lr: 0.0010\n",
            "Epoch 25/50\n",
            "1255/1255 [==============================] - 52s 41ms/step - loss: 0.4998 - accuracy: 0.7505 - val_loss: 0.4913 - val_accuracy: 0.7550 - lr: 0.0010\n",
            "Epoch 26/50\n",
            "1255/1255 [==============================] - 51s 41ms/step - loss: 0.4989 - accuracy: 0.7507 - val_loss: 0.4907 - val_accuracy: 0.7561 - lr: 0.0010\n",
            "Epoch 27/50\n",
            "1255/1255 [==============================] - 52s 41ms/step - loss: 0.4985 - accuracy: 0.7521 - val_loss: 0.4901 - val_accuracy: 0.7557 - lr: 0.0010\n",
            "Epoch 28/50\n",
            "1255/1255 [==============================] - 51s 41ms/step - loss: 0.4973 - accuracy: 0.7518 - val_loss: 0.4900 - val_accuracy: 0.7563 - lr: 0.0010\n",
            "Epoch 29/50\n",
            "1255/1255 [==============================] - 52s 42ms/step - loss: 0.4976 - accuracy: 0.7517 - val_loss: 0.4918 - val_accuracy: 0.7548 - lr: 0.0010\n",
            "Epoch 30/50\n",
            "1255/1255 [==============================] - 52s 42ms/step - loss: 0.4960 - accuracy: 0.7540 - val_loss: 0.4904 - val_accuracy: 0.7560 - lr: 0.0010\n",
            "Epoch 31/50\n",
            "1255/1255 [==============================] - 52s 42ms/step - loss: 0.4922 - accuracy: 0.7558 - val_loss: 0.4875 - val_accuracy: 0.7577 - lr: 5.0000e-04\n",
            "Epoch 32/50\n",
            "1255/1255 [==============================] - 52s 42ms/step - loss: 0.4901 - accuracy: 0.7562 - val_loss: 0.4868 - val_accuracy: 0.7583 - lr: 5.0000e-04\n",
            "Epoch 33/50\n",
            "1255/1255 [==============================] - 52s 41ms/step - loss: 0.4890 - accuracy: 0.7585 - val_loss: 0.4871 - val_accuracy: 0.7577 - lr: 5.0000e-04\n",
            "Epoch 34/50\n",
            "1255/1255 [==============================] - 52s 42ms/step - loss: 0.4884 - accuracy: 0.7587 - val_loss: 0.4874 - val_accuracy: 0.7584 - lr: 5.0000e-04\n",
            "Epoch 35/50\n",
            "1255/1255 [==============================] - 52s 41ms/step - loss: 0.4861 - accuracy: 0.7593 - val_loss: 0.4856 - val_accuracy: 0.7592 - lr: 2.5000e-04\n",
            "Epoch 36/50\n",
            "1255/1255 [==============================] - 52s 42ms/step - loss: 0.4849 - accuracy: 0.7603 - val_loss: 0.4855 - val_accuracy: 0.7591 - lr: 2.5000e-04\n",
            "Epoch 37/50\n",
            "1255/1255 [==============================] - 52s 42ms/step - loss: 0.4848 - accuracy: 0.7607 - val_loss: 0.4853 - val_accuracy: 0.7596 - lr: 2.5000e-04\n",
            "Epoch 38/50\n",
            "1255/1255 [==============================] - 52s 42ms/step - loss: 0.4834 - accuracy: 0.7613 - val_loss: 0.4854 - val_accuracy: 0.7593 - lr: 2.5000e-04\n",
            "Epoch 39/50\n",
            "1255/1255 [==============================] - 52s 41ms/step - loss: 0.4825 - accuracy: 0.7615 - val_loss: 0.4855 - val_accuracy: 0.7593 - lr: 2.5000e-04\n",
            "Epoch 40/50\n",
            "1255/1255 [==============================] - 52s 42ms/step - loss: 0.4820 - accuracy: 0.7621 - val_loss: 0.4854 - val_accuracy: 0.7593 - lr: 1.2500e-04\n",
            "Epoch 41/50\n",
            "1255/1255 [==============================] - 53s 42ms/step - loss: 0.4812 - accuracy: 0.7623 - val_loss: 0.4852 - val_accuracy: 0.7595 - lr: 1.2500e-04\n",
            "Epoch 42/50\n",
            "1255/1255 [==============================] - 53s 42ms/step - loss: 0.4807 - accuracy: 0.7625 - val_loss: 0.4850 - val_accuracy: 0.7598 - lr: 1.2500e-04\n",
            "Epoch 43/50\n",
            "1255/1255 [==============================] - 53s 42ms/step - loss: 0.4811 - accuracy: 0.7626 - val_loss: 0.4851 - val_accuracy: 0.7596 - lr: 1.2500e-04\n",
            "Epoch 44/50\n",
            "1255/1255 [==============================] - 52s 42ms/step - loss: 0.4804 - accuracy: 0.7637 - val_loss: 0.4851 - val_accuracy: 0.7598 - lr: 1.2500e-04\n",
            "Epoch 45/50\n",
            "1255/1255 [==============================] - 53s 42ms/step - loss: 0.4797 - accuracy: 0.7641 - val_loss: 0.4849 - val_accuracy: 0.7596 - lr: 6.2500e-05\n",
            "Epoch 46/50\n",
            "1255/1255 [==============================] - 52s 42ms/step - loss: 0.4795 - accuracy: 0.7643 - val_loss: 0.4852 - val_accuracy: 0.7598 - lr: 6.2500e-05\n",
            "Epoch 47/50\n",
            "1255/1255 [==============================] - 52s 42ms/step - loss: 0.4782 - accuracy: 0.7648 - val_loss: 0.4850 - val_accuracy: 0.7598 - lr: 3.1250e-05\n",
            "Epoch 48/50\n",
            "1255/1255 [==============================] - 52s 42ms/step - loss: 0.4787 - accuracy: 0.7637 - val_loss: 0.4851 - val_accuracy: 0.7597 - lr: 3.1250e-05\n",
            "Epoch 49/50\n",
            "1255/1255 [==============================] - 53s 42ms/step - loss: 0.4783 - accuracy: 0.7645 - val_loss: 0.4850 - val_accuracy: 0.7598 - lr: 1.5625e-05\n",
            "Epoch 50/50\n",
            "1255/1255 [==============================] - 52s 42ms/step - loss: 0.4781 - accuracy: 0.7645 - val_loss: 0.4850 - val_accuracy: 0.7599 - lr: 1.5625e-05\n",
            "469/469 [==============================] - 4s 9ms/step - loss: 0.4858 - accuracy: 0.7595\n",
            "Test accuracy: 0.7595190405845642\n"
          ]
        }
      ]
    },
    {
      "cell_type": "markdown",
      "source": [
        "#Step 5: Saving, loading and printing the info of our model\n",
        "\n"
      ],
      "metadata": {
        "id": "kwMRFoqZhXtg"
      }
    },
    {
      "cell_type": "code",
      "source": [
        "# Save the model\n",
        "improved_model.model.save('my_model.h5')"
      ],
      "metadata": {
        "id": "1CaD7ozpOi57"
      },
      "execution_count": null,
      "outputs": []
    },
    {
      "cell_type": "code",
      "source": [
        "\n",
        "# Load the saved model\n",
        "loaded_model = load_model('my_model.h5')\n",
        "\n",
        "# Print the summary of the loaded model\n",
        "loaded_model.summary()"
      ],
      "metadata": {
        "colab": {
          "base_uri": "https://localhost:8080/",
          "height": 0
        },
        "id": "7F1SmScUuJYE",
        "outputId": "2269063c-acb7-4dd9-8bb3-4ae39d2d24aa"
      },
      "execution_count": 16,
      "outputs": [
        {
          "output_type": "stream",
          "name": "stdout",
          "text": [
            "Model: \"model_1\"\n",
            "_________________________________________________________________\n",
            " Layer (type)                Output Shape              Param #   \n",
            "=================================================================\n",
            " input_2 (InputLayer)        [(None, 28)]              0         \n",
            "                                                                 \n",
            " dense_5 (Dense)             (None, 1024)              29696     \n",
            "                                                                 \n",
            " batch_normalization_4 (Batc  (None, 1024)             4096      \n",
            " hNormalization)                                                 \n",
            "                                                                 \n",
            " dropout_4 (Dropout)         (None, 1024)              0         \n",
            "                                                                 \n",
            " dense_6 (Dense)             (None, 512)               524800    \n",
            "                                                                 \n",
            " batch_normalization_5 (Batc  (None, 512)              2048      \n",
            " hNormalization)                                                 \n",
            "                                                                 \n",
            " dropout_5 (Dropout)         (None, 512)               0         \n",
            "                                                                 \n",
            " dense_7 (Dense)             (None, 256)               131328    \n",
            "                                                                 \n",
            " batch_normalization_6 (Batc  (None, 256)              1024      \n",
            " hNormalization)                                                 \n",
            "                                                                 \n",
            " dropout_6 (Dropout)         (None, 256)               0         \n",
            "                                                                 \n",
            " dense_8 (Dense)             (None, 128)               32896     \n",
            "                                                                 \n",
            " batch_normalization_7 (Batc  (None, 128)              512       \n",
            " hNormalization)                                                 \n",
            "                                                                 \n",
            " dropout_7 (Dropout)         (None, 128)               0         \n",
            "                                                                 \n",
            " dense_9 (Dense)             (None, 1)                 129       \n",
            "                                                                 \n",
            "=================================================================\n",
            "Total params: 726,529\n",
            "Trainable params: 722,689\n",
            "Non-trainable params: 3,840\n",
            "_________________________________________________________________\n"
          ]
        }
      ]
    }
  ]
}